{
 "cells": [
  {
   "cell_type": "code",
   "execution_count": 56,
   "metadata": {
    "collapsed": false
   },
   "outputs": [
    {
     "name": "stdout",
     "output_type": "stream",
     "text": [
      "[1 2]\n",
      "[[[1 2]\n",
      "  [3 4]\n",
      "  [5 6]]\n",
      "\n",
      " [[1 2]\n",
      "  [3 4]\n",
      "  [5 6]]]\n",
      "(100,)\n"
     ]
    }
   ],
   "source": [
    "import numpy as np\n",
    "import theano.tensor as TT\n",
    "import theano\n",
    "\n",
    "x = np.array([1,2])\n",
    "print(x)\n",
    "\n",
    "a = TT.matrix()\n",
    "TT.sum(a)\n",
    "\n",
    "f = theano.function(inputs=[a], outputs=TT.sum(a))\n",
    "\n",
    "y = np.array([[[1,2],[3,4],[5,6]],[[1,2],[3,4],[5,6]]])\n",
    "print(y)\n",
    "\n",
    "#f(*y)\n",
    "\n",
    "z = np.zeros(100)\n",
    "print(z.shape)\n"
   ]
  },
  {
   "cell_type": "code",
   "execution_count": 94,
   "metadata": {
    "collapsed": false
   },
   "outputs": [
    {
     "ename": "ImportError",
     "evalue": "No module named 'pandas'",
     "output_type": "error",
     "traceback": [
      "\u001b[0;31m---------------------------------------------------------------------------\u001b[0m",
      "\u001b[0;31mImportError\u001b[0m                               Traceback (most recent call last)",
      "\u001b[0;32m<ipython-input-94-3f28e7f0217e>\u001b[0m in \u001b[0;36m<module>\u001b[0;34m()\u001b[0m\n\u001b[0;32m----> 1\u001b[0;31m \u001b[0;32mimport\u001b[0m \u001b[0mpandas\u001b[0m \u001b[0;32mas\u001b[0m \u001b[0mpd\u001b[0m\u001b[0;34m\u001b[0m\u001b[0m\n\u001b[0m\u001b[1;32m      2\u001b[0m \u001b[0;32mimport\u001b[0m \u001b[0mnumpy\u001b[0m \u001b[0;32mas\u001b[0m \u001b[0mnp\u001b[0m\u001b[0;34m\u001b[0m\u001b[0m\n\u001b[1;32m      3\u001b[0m \u001b[0;32mimport\u001b[0m \u001b[0mmatplotlib\u001b[0m\u001b[0;34m.\u001b[0m\u001b[0mpyplot\u001b[0m \u001b[0;32mas\u001b[0m \u001b[0mplt\u001b[0m\u001b[0;34m\u001b[0m\u001b[0m\n\u001b[1;32m      4\u001b[0m \u001b[0;34m\u001b[0m\u001b[0m\n\u001b[1;32m      5\u001b[0m \u001b[0mnpireps\u001b[0m \u001b[0;34m=\u001b[0m \u001b[0;34m'/home/vgomez/rllab/data/local/experiment/experiment_2017_02_21_16_57_45_0001/progress.csv'\u001b[0m\u001b[0;34m\u001b[0m\u001b[0m\n",
      "\u001b[0;31mImportError\u001b[0m: No module named 'pandas'"
     ]
    }
   ],
   "source": [
    "import numpy as np\n",
    "import matplotlib.pyplot as plt\n",
    "\n",
    "npireps = '/home/vgomez/rllab/data/local/experiment/experiment_2017_02_21_16_57_45_0001/progress.csv'\n",
    "data = pd.read_csv(npireps)\n",
    "data['AverageReturn'].values\n",
    "\n",
    "\n",
    "#reader = csv.DictReader(filename)\n",
    "#    data = list(reader)\n",
    "#    row_count = len(data)        \n",
    "#    aret = np.zeros(row_count)\n",
    "#    rc = 0\n",
    "#    print(reader)\n",
    "#    for row in reader:\n",
    "#        print(row['AverageReturn'])\n",
    "#        #aret[rc] = row['AverageReturn']\n",
    "#        rc += 1\n",
    "#    return aret\n",
    "\n",
    "#npirepsr = getAverageReturn(npireps)\n",
    "#trpo = '/home/vgomez/rllab/data/local/experiment/experiment_2017_02_21_16_53_50_0001/progress.csv'\n",
    "#trpor = getAverageReturn(trpo)\n",
    "\n",
    "plt.plot([npirepsr, trpor])\n",
    "#plt.show()\n",
    "\n"
   ]
  },
  {
   "cell_type": "code",
   "execution_count": null,
   "metadata": {
    "collapsed": true
   },
   "outputs": [],
   "source": []
  }
 ],
 "metadata": {
  "anaconda-cloud": {},
  "kernelspec": {
   "display_name": "Python [conda env:rllab3]",
   "language": "python",
   "name": "conda-env-rllab3-py"
  },
  "language_info": {
   "codemirror_mode": {
    "name": "ipython",
    "version": 3
   },
   "file_extension": ".py",
   "mimetype": "text/x-python",
   "name": "python",
   "nbconvert_exporter": "python",
   "pygments_lexer": "ipython3",
   "version": "3.5.2"
  }
 },
 "nbformat": 4,
 "nbformat_minor": 1
}
